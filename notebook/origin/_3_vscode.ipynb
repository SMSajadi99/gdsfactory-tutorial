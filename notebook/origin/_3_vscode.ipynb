{
 "cells": [
  {
   "cell_type": "markdown",
   "id": "0",
   "metadata": {},
   "source": [
    "# Python editor\n",
    "\n",
    "An Integrated Development Environment (IDE) is a software application that provides comprehensive facilities to computer programmers for software development. In the context of Python, an IDE typically includes the following features:\n",
    "\n",
    "- Code Editor: A text editor with features specifically designed for writing code, such as syntax highlighting, code completion, and error detection.\n",
    "- Interpreter/Compiler Integration: Allows you to run your code directly from the IDE, often with support for debugging and interactive exploration.\n",
    "- Debugger: Tools to help you find and fix bugs in your code, including breakpoints, step-through execution, and variable inspection.\n",
    "- Build Automation Tools: Integration with build systems to automate common tasks like running tests, packaging applications, and deploying software.\n",
    "- Version Control: Integration with version control systems like Git to manage changes to your codebase and collaborate with others.\n",
    "\n",
    "Popular Python IDEs include:\n",
    "\n",
    "- Visual Studio Code (VS Code): A lightweight but powerful code editor with a wide range of extensions for Python development. (Our recommendation)\n",
    "- PyCharm: A powerful IDE with a rich set of features, including advanced debugging, refactoring tools, and support for web development frameworks.\n",
    "- Spyder: An IDE specifically designed for data science and scientific computing with features like an interactive console, advanced editing, and debugging.\n",
    "- Jupyter Notebook: An interactive environment that combines code execution, rich text, and visualizations, popular in data science and research.\n",
    "\n",
    "Each of these IDEs offers unique advantages depending on your specific needs and workflow preferences."
   ]
  },
  {
   "cell_type": "markdown",
   "id": "1",
   "metadata": {},
   "source": [
    "You can launch jupyterlab or VSCode from the anaconda navigator so that your path is setup correctly.\n",
    "\n",
    "![navigator](https://i.imgur.com/e1fSszF.png)"
   ]
  },
  {
   "cell_type": "markdown",
   "id": "2",
   "metadata": {},
   "source": [
    "## VScode\n",
    "\n",
    "We recommend [VSCode](https://code.visualstudio.com/) as it is the most popular IDE for python.\n",
    "\n",
    "gdsfactory also has a VScode extension that you can install from the marketplace.\n",
    "\n",
    "The extension provides you with useful code snippets and filewatcher extension to see live modifications of `*pic.yml` or `*.py` files. Look for the telescope button on the top right of VSCode 🔭.\n",
    "\n",
    "![extension](https://i.imgur.com/89OPCQ1.png)\n",
    "\n",
    "Make sure you choose the correct Python path.\n",
    "\n",
    "![vscode](https://i.imgur.com/g7IL3D3.png)"
   ]
  },
  {
   "cell_type": "markdown",
   "id": "3",
   "metadata": {},
   "source": [
    "## JupyterLab\n",
    "\n",
    "You can launch JupyterLab from the anaconda \n",
    "\n",
    "Jupyter Notebooks are a great way to go through tutorials like this one.\n",
    "\n",
    "![jupyterlab](https://i.imgur.com/WX0XEGg.png)"
   ]
  },
  {
   "cell_type": "markdown",
   "id": "4",
   "metadata": {},
   "source": [
    "## PyCharm\n",
    "\n",
    "PyCharm is also a popular python IDE that you can [install](https://www.jetbrains.com/pycharm/)\n",
    "\n",
    "![pycharm](https://i.imgur.com/bK11wZW.png)"
   ]
  },
  {
   "cell_type": "markdown",
   "id": "5",
   "metadata": {},
   "source": [
    "## Spyder\n",
    "\n",
    "Spyder is the most similar IDE to Matlab.\n",
    "\n",
    "You can install spyder from the anaconda prompt using `conda install spyder -y`\n",
    "\n",
    "![spyder ipython](https://i.imgur.com/FotCgPh.png)"
   ]
  }
 ],
 "metadata": {
  "jupytext": {
   "cell_metadata_filter": "-all",
   "main_language": "python",
   "notebook_metadata_filter": "-all"
  },
  "language_info": {
   "name": "python"
  }
 },
 "nbformat": 4,
 "nbformat_minor": 5
}
