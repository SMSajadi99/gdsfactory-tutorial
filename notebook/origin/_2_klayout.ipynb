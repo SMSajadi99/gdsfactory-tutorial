{
 "cells": [
  {
   "cell_type": "markdown",
   "id": "0",
   "metadata": {},
   "source": [
    "# KLayout integration\n",
    "\n",
    "[Klayout](https://www.klayout.de/build.html) is an open source layout viewer and editor. In gdsfactory code driven flow you define your components, circuits and reticles in python or YAML code.\n",
    "\n",
    "For rapid iteration, gdsfactory comes with a Klayout macro `klive` that runs inside klayout, so that when you run `component.show()` in python, it displays your GDS in Klayout.\n",
    "\n",
    "![workflow](https://i.imgur.com/yquTcM7.png)"
   ]
  },
  {
   "cell_type": "markdown",
   "id": "1",
   "metadata": {},
   "source": [
    "You can install the klayout klive plugin to be able to see `Component.show()` to live update your GDS without having do File -> Open -> Select GDS\n",
    "\n",
    "You can also install metainfo_ports to show ports in the Component.\n",
    "\n",
    "We recommend 4 packages:\n",
    "\n",
    "1. klive: to send CAD files from python directly into klayout.\n",
    "2. metainfo_ports: to show ports interactively.\n",
    "3. gdsfactory: to get the generic PDK layermap.\n",
    "4. klayout_pyxs: to visualize 2D cross_sections when using the ruler."
   ]
  },
  {
   "cell_type": "markdown",
   "id": "2",
   "metadata": {},
   "source": [
    "![KLayout package](https://i.imgur.com/xvRFVME.png)"
   ]
  }
 ],
 "metadata": {
  "jupytext": {
   "cell_metadata_filter": "-all",
   "main_language": "python",
   "notebook_metadata_filter": "-all"
  },
  "language_info": {
   "name": "python"
  }
 },
 "nbformat": 4,
 "nbformat_minor": 5
}
